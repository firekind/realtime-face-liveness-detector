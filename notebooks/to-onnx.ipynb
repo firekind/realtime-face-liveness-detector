{
 "cells": [
  {
   "cell_type": "code",
   "execution_count": 1,
   "metadata": {},
   "outputs": [
    {
     "name": "stderr",
     "output_type": "stream",
     "text": [
      "2021-11-25 06:59:52.672693: I tensorflow/stream_executor/platform/default/dso_loader.cc:49] Successfully opened dynamic library libcudart.so.11.0\n"
     ]
    }
   ],
   "source": [
    "import tensorflow as tf\n",
    "import tensorflow.keras.layers as layers\n",
    "import tensorflow.keras as keras\n",
    "from focal_loss import SparseCategoricalFocalLoss\n",
    "\n",
    "import onnx"
   ]
  },
  {
   "cell_type": "code",
   "execution_count": 2,
   "metadata": {},
   "outputs": [
    {
     "name": "stderr",
     "output_type": "stream",
     "text": [
      "2021-11-25 06:59:53.520088: I tensorflow/stream_executor/platform/default/dso_loader.cc:49] Successfully opened dynamic library libcuda.so.1\n",
      "2021-11-25 06:59:53.576034: I tensorflow/stream_executor/cuda/cuda_gpu_executor.cc:1079] successful NUMA node read from SysFS had negative value (-1), but there must be at least one NUMA node, so returning NUMA node zero\n",
      "2021-11-25 06:59:53.576449: I tensorflow/core/common_runtime/gpu/gpu_device.cc:1742] Found device 0 with properties: \n",
      "pciBusID: 0000:01:00.0 name: NVIDIA GeForce RTX 2060 computeCapability: 7.5\n",
      "coreClock: 1.2GHz coreCount: 30 deviceMemorySize: 5.79GiB deviceMemoryBandwidth: 312.97GiB/s\n",
      "2021-11-25 06:59:53.576485: I tensorflow/stream_executor/platform/default/dso_loader.cc:49] Successfully opened dynamic library libcudart.so.11.0\n",
      "2021-11-25 06:59:53.579335: I tensorflow/stream_executor/platform/default/dso_loader.cc:49] Successfully opened dynamic library libcublas.so.11\n",
      "2021-11-25 06:59:53.580304: I tensorflow/stream_executor/platform/default/dso_loader.cc:49] Successfully opened dynamic library libcufft.so.10\n",
      "2021-11-25 06:59:53.580514: I tensorflow/stream_executor/platform/default/dso_loader.cc:49] Successfully opened dynamic library libcurand.so.10\n",
      "2021-11-25 06:59:53.583255: I tensorflow/stream_executor/platform/default/dso_loader.cc:49] Successfully opened dynamic library libcusolver.so.11\n",
      "2021-11-25 06:59:53.583932: I tensorflow/stream_executor/platform/default/dso_loader.cc:49] Successfully opened dynamic library libcusparse.so.11\n",
      "2021-11-25 06:59:53.584039: I tensorflow/stream_executor/platform/default/dso_loader.cc:49] Successfully opened dynamic library libcudnn.so.8\n",
      "2021-11-25 06:59:53.584127: I tensorflow/stream_executor/cuda/cuda_gpu_executor.cc:1079] successful NUMA node read from SysFS had negative value (-1), but there must be at least one NUMA node, so returning NUMA node zero\n",
      "2021-11-25 06:59:53.584541: I tensorflow/stream_executor/cuda/cuda_gpu_executor.cc:1079] successful NUMA node read from SysFS had negative value (-1), but there must be at least one NUMA node, so returning NUMA node zero\n",
      "2021-11-25 06:59:53.584823: I tensorflow/core/common_runtime/gpu/gpu_device.cc:1884] Adding visible gpu devices: 0\n",
      "2021-11-25 06:59:53.591145: I tensorflow/core/platform/profile_utils/cpu_utils.cc:104] CPU Frequency: 2200660000 Hz\n",
      "2021-11-25 06:59:53.591619: I tensorflow/compiler/xla/service/service.cc:168] XLA service 0x59eb180 initialized for platform Host (this does not guarantee that XLA will be used). Devices:\n",
      "2021-11-25 06:59:53.591635: I tensorflow/compiler/xla/service/service.cc:176]   StreamExecutor device (0): Host, Default Version\n",
      "2021-11-25 06:59:53.656676: I tensorflow/stream_executor/cuda/cuda_gpu_executor.cc:1079] successful NUMA node read from SysFS had negative value (-1), but there must be at least one NUMA node, so returning NUMA node zero\n",
      "2021-11-25 06:59:53.657366: I tensorflow/compiler/xla/service/service.cc:168] XLA service 0x52e1e00 initialized for platform CUDA (this does not guarantee that XLA will be used). Devices:\n",
      "2021-11-25 06:59:53.657384: I tensorflow/compiler/xla/service/service.cc:176]   StreamExecutor device (0): NVIDIA GeForce RTX 2060, Compute Capability 7.5\n",
      "2021-11-25 06:59:53.657572: I tensorflow/stream_executor/cuda/cuda_gpu_executor.cc:1079] successful NUMA node read from SysFS had negative value (-1), but there must be at least one NUMA node, so returning NUMA node zero\n",
      "2021-11-25 06:59:53.657863: I tensorflow/core/common_runtime/gpu/gpu_device.cc:1742] Found device 0 with properties: \n",
      "pciBusID: 0000:01:00.0 name: NVIDIA GeForce RTX 2060 computeCapability: 7.5\n",
      "coreClock: 1.2GHz coreCount: 30 deviceMemorySize: 5.79GiB deviceMemoryBandwidth: 312.97GiB/s\n",
      "2021-11-25 06:59:53.657884: I tensorflow/stream_executor/platform/default/dso_loader.cc:49] Successfully opened dynamic library libcudart.so.11.0\n",
      "2021-11-25 06:59:53.657902: I tensorflow/stream_executor/platform/default/dso_loader.cc:49] Successfully opened dynamic library libcublas.so.11\n",
      "2021-11-25 06:59:53.657921: I tensorflow/stream_executor/platform/default/dso_loader.cc:49] Successfully opened dynamic library libcufft.so.10\n",
      "2021-11-25 06:59:53.657934: I tensorflow/stream_executor/platform/default/dso_loader.cc:49] Successfully opened dynamic library libcurand.so.10\n",
      "2021-11-25 06:59:53.657943: I tensorflow/stream_executor/platform/default/dso_loader.cc:49] Successfully opened dynamic library libcusolver.so.11\n",
      "2021-11-25 06:59:53.657952: I tensorflow/stream_executor/platform/default/dso_loader.cc:49] Successfully opened dynamic library libcusparse.so.11\n",
      "2021-11-25 06:59:53.657961: I tensorflow/stream_executor/platform/default/dso_loader.cc:49] Successfully opened dynamic library libcudnn.so.8\n",
      "2021-11-25 06:59:53.658004: I tensorflow/stream_executor/cuda/cuda_gpu_executor.cc:1079] successful NUMA node read from SysFS had negative value (-1), but there must be at least one NUMA node, so returning NUMA node zero\n",
      "2021-11-25 06:59:53.658311: I tensorflow/stream_executor/cuda/cuda_gpu_executor.cc:1079] successful NUMA node read from SysFS had negative value (-1), but there must be at least one NUMA node, so returning NUMA node zero\n",
      "2021-11-25 06:59:53.658572: I tensorflow/core/common_runtime/gpu/gpu_device.cc:1884] Adding visible gpu devices: 0\n",
      "2021-11-25 06:59:53.658594: I tensorflow/stream_executor/platform/default/dso_loader.cc:49] Successfully opened dynamic library libcudart.so.11.0\n",
      "2021-11-25 06:59:53.982145: I tensorflow/core/common_runtime/gpu/gpu_device.cc:1283] Device interconnect StreamExecutor with strength 1 edge matrix:\n",
      "2021-11-25 06:59:53.982170: I tensorflow/core/common_runtime/gpu/gpu_device.cc:1289]      0 \n",
      "2021-11-25 06:59:53.982178: I tensorflow/core/common_runtime/gpu/gpu_device.cc:1302] 0:   N \n",
      "2021-11-25 06:59:53.982333: I tensorflow/stream_executor/cuda/cuda_gpu_executor.cc:1079] successful NUMA node read from SysFS had negative value (-1), but there must be at least one NUMA node, so returning NUMA node zero\n",
      "2021-11-25 06:59:53.982659: I tensorflow/stream_executor/cuda/cuda_gpu_executor.cc:1079] successful NUMA node read from SysFS had negative value (-1), but there must be at least one NUMA node, so returning NUMA node zero\n",
      "2021-11-25 06:59:53.982939: I tensorflow/core/common_runtime/gpu/gpu_device.cc:1428] Created TensorFlow device (/job:localhost/replica:0/task:0/device:GPU:0 with 4161 MB memory) -> physical GPU (device: 0, name: NVIDIA GeForce RTX 2060, pci bus id: 0000:01:00.0, compute capability: 7.5)\n"
     ]
    }
   ],
   "source": [
    "model_path = \"../model/antispoofing.h5\"\n",
    "model = tf.keras.models.load_model(model_path, custom_objects={\"lr\": lambda x: x, \"SparseCategoricalFocalLoss\": SparseCategoricalFocalLoss}, compile=False)"
   ]
  },
  {
   "cell_type": "code",
   "execution_count": 3,
   "metadata": {},
   "outputs": [
    {
     "name": "stdout",
     "output_type": "stream",
     "text": [
      "Model: \"sequential\"\n",
      "_________________________________________________________________\n",
      "Layer (type)                 Output Shape              Param #   \n",
      "=================================================================\n",
      "conv2d (Conv2D)              (None, 112, 112, 18)      504       \n",
      "_________________________________________________________________\n",
      "activation (Activation)      (None, 112, 112, 18)      0         \n",
      "_________________________________________________________________\n",
      "batch_normalization (BatchNo (None, 112, 112, 18)      72        \n",
      "_________________________________________________________________\n",
      "conv2d_1 (Conv2D)            (None, 112, 112, 18)      2934      \n",
      "_________________________________________________________________\n",
      "activation_1 (Activation)    (None, 112, 112, 18)      0         \n",
      "_________________________________________________________________\n",
      "max_pooling2d (MaxPooling2D) (None, 56, 56, 18)        0         \n",
      "_________________________________________________________________\n",
      "batch_normalization_1 (Batch (None, 56, 56, 18)        72        \n",
      "_________________________________________________________________\n",
      "conv2d_2 (Conv2D)            (None, 56, 56, 36)        5868      \n",
      "_________________________________________________________________\n",
      "activation_2 (Activation)    (None, 56, 56, 36)        0         \n",
      "_________________________________________________________________\n",
      "batch_normalization_2 (Batch (None, 56, 56, 36)        144       \n",
      "_________________________________________________________________\n",
      "conv2d_3 (Conv2D)            (None, 56, 56, 36)        11700     \n",
      "_________________________________________________________________\n",
      "activation_3 (Activation)    (None, 56, 56, 36)        0         \n",
      "_________________________________________________________________\n",
      "max_pooling2d_1 (MaxPooling2 (None, 28, 28, 36)        0         \n",
      "_________________________________________________________________\n",
      "batch_normalization_3 (Batch (None, 28, 28, 36)        144       \n",
      "_________________________________________________________________\n",
      "flatten (Flatten)            (None, 28224)             0         \n",
      "_________________________________________________________________\n",
      "dense (Dense)                (None, 128)               3612800   \n",
      "_________________________________________________________________\n",
      "activation_4 (Activation)    (None, 128)               0         \n",
      "_________________________________________________________________\n",
      "dropout (Dropout)            (None, 128)               0         \n",
      "_________________________________________________________________\n",
      "dense_1 (Dense)              (None, 2)                 258       \n",
      "_________________________________________________________________\n",
      "activation_5 (Activation)    (None, 2)                 0         \n",
      "=================================================================\n",
      "Total params: 3,634,496\n",
      "Trainable params: 3,634,280\n",
      "Non-trainable params: 216\n",
      "_________________________________________________________________\n"
     ]
    }
   ],
   "source": [
    "model.summary()"
   ]
  },
  {
   "cell_type": "code",
   "execution_count": 4,
   "metadata": {},
   "outputs": [],
   "source": [
    "def add_permute_and_save(non_permutted, path = \"../model/permuted_antispoofing.h5\"):\n",
    "    permuted_model = keras.Sequential([\n",
    "        layers.Permute((2, 3, 1), input_shape=non_permutted.input_shape[1:][::-1]),\n",
    "        model,\n",
    "    ]);\n",
    "    if path is not None:\n",
    "        permuted_model.save(path)\n",
    "    return permuted_model"
   ]
  },
  {
   "cell_type": "code",
   "execution_count": 5,
   "metadata": {},
   "outputs": [],
   "source": [
    "permuted_model = add_permute_and_save(model, path = None)"
   ]
  },
  {
   "cell_type": "code",
   "execution_count": 6,
   "metadata": {},
   "outputs": [
    {
     "name": "stdout",
     "output_type": "stream",
     "text": [
      "WARNING:tensorflow:From /usr/local/lib/python3.8/dist-packages/tensorflow/python/training/tracking/tracking.py:111: Model.state_updates (from tensorflow.python.keras.engine.training) is deprecated and will be removed in a future version.\n",
      "Instructions for updating:\n",
      "This property should not be used in TensorFlow 2.0, as updates are applied automatically.\n",
      "WARNING:tensorflow:From /usr/local/lib/python3.8/dist-packages/tensorflow/python/training/tracking/tracking.py:111: Layer.updates (from tensorflow.python.keras.engine.base_layer) is deprecated and will be removed in a future version.\n",
      "Instructions for updating:\n",
      "This property should not be used in TensorFlow 2.0, as updates are applied automatically.\n"
     ]
    },
    {
     "name": "stderr",
     "output_type": "stream",
     "text": [
      "2021-11-25 06:59:55.364463: W tensorflow/python/util/util.cc:348] Sets are not currently considered sequences, but this may change in the future, so consider avoiding using them.\n"
     ]
    },
    {
     "name": "stdout",
     "output_type": "stream",
     "text": [
      "INFO:tensorflow:Assets written to: ../model/permuted_antispoofing/assets\n"
     ]
    }
   ],
   "source": [
    "# saving permuted model in SavedModel format\n",
    "permuted_model.save(\"../model/permuted_antispoofing\")"
   ]
  },
  {
   "cell_type": "code",
   "execution_count": 7,
   "metadata": {},
   "outputs": [
    {
     "name": "stdout",
     "output_type": "stream",
     "text": [
      "2021-11-25 06:59:57.526223: I tensorflow/stream_executor/platform/default/dso_loader.cc:49] Successfully opened dynamic library libcudart.so.11.0\n",
      "/usr/lib/python3.8/runpy.py:127: RuntimeWarning: 'tf2onnx.convert' found in sys.modules after import of package 'tf2onnx', but prior to execution of 'tf2onnx.convert'; this may result in unpredictable behaviour\n",
      "  warn(RuntimeWarning(msg))\n",
      "2021-11-25 06:59:58.480192: I tensorflow/stream_executor/platform/default/dso_loader.cc:49] Successfully opened dynamic library libcuda.so.1\n",
      "2021-11-25 06:59:58.499426: I tensorflow/stream_executor/cuda/cuda_gpu_executor.cc:1079] successful NUMA node read from SysFS had negative value (-1), but there must be at least one NUMA node, so returning NUMA node zero\n",
      "2021-11-25 06:59:58.499704: I tensorflow/core/common_runtime/gpu/gpu_device.cc:1742] Found device 0 with properties: \n",
      "pciBusID: 0000:01:00.0 name: NVIDIA GeForce RTX 2060 computeCapability: 7.5\n",
      "coreClock: 1.2GHz coreCount: 30 deviceMemorySize: 5.79GiB deviceMemoryBandwidth: 312.97GiB/s\n",
      "2021-11-25 06:59:58.499730: I tensorflow/stream_executor/platform/default/dso_loader.cc:49] Successfully opened dynamic library libcudart.so.11.0\n",
      "2021-11-25 06:59:58.502002: I tensorflow/stream_executor/platform/default/dso_loader.cc:49] Successfully opened dynamic library libcublas.so.11\n",
      "2021-11-25 06:59:58.502771: I tensorflow/stream_executor/platform/default/dso_loader.cc:49] Successfully opened dynamic library libcufft.so.10\n",
      "2021-11-25 06:59:58.503015: I tensorflow/stream_executor/platform/default/dso_loader.cc:49] Successfully opened dynamic library libcurand.so.10\n",
      "2021-11-25 06:59:58.505513: I tensorflow/stream_executor/platform/default/dso_loader.cc:49] Successfully opened dynamic library libcusolver.so.11\n",
      "2021-11-25 06:59:58.506593: I tensorflow/stream_executor/platform/default/dso_loader.cc:49] Successfully opened dynamic library libcusparse.so.11\n",
      "2021-11-25 06:59:58.506879: I tensorflow/stream_executor/platform/default/dso_loader.cc:49] Successfully opened dynamic library libcudnn.so.8\n",
      "2021-11-25 06:59:58.507061: I tensorflow/stream_executor/cuda/cuda_gpu_executor.cc:1079] successful NUMA node read from SysFS had negative value (-1), but there must be at least one NUMA node, so returning NUMA node zero\n",
      "2021-11-25 06:59:58.507525: I tensorflow/stream_executor/cuda/cuda_gpu_executor.cc:1079] successful NUMA node read from SysFS had negative value (-1), but there must be at least one NUMA node, so returning NUMA node zero\n",
      "2021-11-25 06:59:58.507746: I tensorflow/core/common_runtime/gpu/gpu_device.cc:1884] Adding visible gpu devices: 0\n",
      "2021-11-25 06:59:58.514384: I tensorflow/core/platform/profile_utils/cpu_utils.cc:104] CPU Frequency: 2200660000 Hz\n",
      "2021-11-25 06:59:58.514876: I tensorflow/compiler/xla/service/service.cc:168] XLA service 0x413c860 initialized for platform Host (this does not guarantee that XLA will be used). Devices:\n",
      "2021-11-25 06:59:58.514918: I tensorflow/compiler/xla/service/service.cc:176]   StreamExecutor device (0): Host, Default Version\n",
      "2021-11-25 06:59:58.598480: I tensorflow/stream_executor/cuda/cuda_gpu_executor.cc:1079] successful NUMA node read from SysFS had negative value (-1), but there must be at least one NUMA node, so returning NUMA node zero\n",
      "2021-11-25 06:59:58.598929: I tensorflow/compiler/xla/service/service.cc:168] XLA service 0x3eb34e0 initialized for platform CUDA (this does not guarantee that XLA will be used). Devices:\n",
      "2021-11-25 06:59:58.598949: I tensorflow/compiler/xla/service/service.cc:176]   StreamExecutor device (0): NVIDIA GeForce RTX 2060, Compute Capability 7.5\n",
      "2021-11-25 06:59:58.599177: I tensorflow/stream_executor/cuda/cuda_gpu_executor.cc:1079] successful NUMA node read from SysFS had negative value (-1), but there must be at least one NUMA node, so returning NUMA node zero\n",
      "2021-11-25 06:59:58.599447: I tensorflow/core/common_runtime/gpu/gpu_device.cc:1742] Found device 0 with properties: \n",
      "pciBusID: 0000:01:00.0 name: NVIDIA GeForce RTX 2060 computeCapability: 7.5\n",
      "coreClock: 1.2GHz coreCount: 30 deviceMemorySize: 5.79GiB deviceMemoryBandwidth: 312.97GiB/s\n",
      "2021-11-25 06:59:58.599492: I tensorflow/stream_executor/platform/default/dso_loader.cc:49] Successfully opened dynamic library libcudart.so.11.0\n",
      "2021-11-25 06:59:58.599524: I tensorflow/stream_executor/platform/default/dso_loader.cc:49] Successfully opened dynamic library libcublas.so.11\n",
      "2021-11-25 06:59:58.599539: I tensorflow/stream_executor/platform/default/dso_loader.cc:49] Successfully opened dynamic library libcufft.so.10\n",
      "2021-11-25 06:59:58.599553: I tensorflow/stream_executor/platform/default/dso_loader.cc:49] Successfully opened dynamic library libcurand.so.10\n",
      "2021-11-25 06:59:58.599576: I tensorflow/stream_executor/platform/default/dso_loader.cc:49] Successfully opened dynamic library libcusolver.so.11\n",
      "2021-11-25 06:59:58.599592: I tensorflow/stream_executor/platform/default/dso_loader.cc:49] Successfully opened dynamic library libcusparse.so.11\n",
      "2021-11-25 06:59:58.599606: I tensorflow/stream_executor/platform/default/dso_loader.cc:49] Successfully opened dynamic library libcudnn.so.8\n",
      "2021-11-25 06:59:58.599672: I tensorflow/stream_executor/cuda/cuda_gpu_executor.cc:1079] successful NUMA node read from SysFS had negative value (-1), but there must be at least one NUMA node, so returning NUMA node zero\n",
      "2021-11-25 06:59:58.600081: I tensorflow/stream_executor/cuda/cuda_gpu_executor.cc:1079] successful NUMA node read from SysFS had negative value (-1), but there must be at least one NUMA node, so returning NUMA node zero\n",
      "2021-11-25 06:59:58.600426: I tensorflow/core/common_runtime/gpu/gpu_device.cc:1884] Adding visible gpu devices: 0\n",
      "2021-11-25 06:59:58.600519: I tensorflow/stream_executor/platform/default/dso_loader.cc:49] Successfully opened dynamic library libcudart.so.11.0\n",
      "2021-11-25 06:59:59.077876: I tensorflow/core/common_runtime/gpu/gpu_device.cc:1283] Device interconnect StreamExecutor with strength 1 edge matrix:\n",
      "2021-11-25 06:59:59.077909: I tensorflow/core/common_runtime/gpu/gpu_device.cc:1289]      0 \n",
      "2021-11-25 06:59:59.077916: I tensorflow/core/common_runtime/gpu/gpu_device.cc:1302] 0:   N \n",
      "2021-11-25 06:59:59.078086: I tensorflow/stream_executor/cuda/cuda_gpu_executor.cc:1079] successful NUMA node read from SysFS had negative value (-1), but there must be at least one NUMA node, so returning NUMA node zero\n",
      "2021-11-25 06:59:59.078382: I tensorflow/stream_executor/cuda/cuda_gpu_executor.cc:1079] successful NUMA node read from SysFS had negative value (-1), but there must be at least one NUMA node, so returning NUMA node zero\n",
      "2021-11-25 06:59:59.078613: I tensorflow/core/common_runtime/gpu/gpu_device.cc:1428] Created TensorFlow device (/job:localhost/replica:0/task:0/device:GPU:0 with 590 MB memory) -> physical GPU (device: 0, name: NVIDIA GeForce RTX 2060, pci bus id: 0000:01:00.0, compute capability: 7.5)\n",
      "2021-11-25 06:59:59,079 - WARNING - '--tag' not specified for saved_model. Using --tag serve\n",
      "2021-11-25 06:59:59,736 - INFO - Signatures found in model: [serving_default].\n",
      "2021-11-25 06:59:59,736 - WARNING - '--signature_def' not specified, using first signature: serving_default\n",
      "2021-11-25 06:59:59,737 - INFO - Output names: ['activation_5']\n",
      "2021-11-25 06:59:59.738913: I tensorflow/stream_executor/cuda/cuda_gpu_executor.cc:1079] successful NUMA node read from SysFS had negative value (-1), but there must be at least one NUMA node, so returning NUMA node zero\n",
      "2021-11-25 06:59:59.739187: I tensorflow/core/grappler/devices.cc:69] Number of eligible GPUs (core count >= 8, compute capability >= 0.0): 1\n",
      "2021-11-25 06:59:59.739301: I tensorflow/core/grappler/clusters/single_machine.cc:356] Starting new session\n",
      "2021-11-25 06:59:59.739763: I tensorflow/stream_executor/cuda/cuda_gpu_executor.cc:1079] successful NUMA node read from SysFS had negative value (-1), but there must be at least one NUMA node, so returning NUMA node zero\n",
      "2021-11-25 06:59:59.740019: I tensorflow/core/common_runtime/gpu/gpu_device.cc:1742] Found device 0 with properties: \n",
      "pciBusID: 0000:01:00.0 name: NVIDIA GeForce RTX 2060 computeCapability: 7.5\n",
      "coreClock: 1.2GHz coreCount: 30 deviceMemorySize: 5.79GiB deviceMemoryBandwidth: 312.97GiB/s\n",
      "2021-11-25 06:59:59.740048: I tensorflow/stream_executor/platform/default/dso_loader.cc:49] Successfully opened dynamic library libcudart.so.11.0\n",
      "2021-11-25 06:59:59.740068: I tensorflow/stream_executor/platform/default/dso_loader.cc:49] Successfully opened dynamic library libcublas.so.11\n",
      "2021-11-25 06:59:59.740079: I tensorflow/stream_executor/platform/default/dso_loader.cc:49] Successfully opened dynamic library libcufft.so.10\n",
      "2021-11-25 06:59:59.740089: I tensorflow/stream_executor/platform/default/dso_loader.cc:49] Successfully opened dynamic library libcurand.so.10\n",
      "2021-11-25 06:59:59.740099: I tensorflow/stream_executor/platform/default/dso_loader.cc:49] Successfully opened dynamic library libcusolver.so.11\n",
      "2021-11-25 06:59:59.740108: I tensorflow/stream_executor/platform/default/dso_loader.cc:49] Successfully opened dynamic library libcusparse.so.11\n",
      "2021-11-25 06:59:59.740119: I tensorflow/stream_executor/platform/default/dso_loader.cc:49] Successfully opened dynamic library libcudnn.so.8\n",
      "2021-11-25 06:59:59.740161: I tensorflow/stream_executor/cuda/cuda_gpu_executor.cc:1079] successful NUMA node read from SysFS had negative value (-1), but there must be at least one NUMA node, so returning NUMA node zero\n",
      "2021-11-25 06:59:59.740410: I tensorflow/stream_executor/cuda/cuda_gpu_executor.cc:1079] successful NUMA node read from SysFS had negative value (-1), but there must be at least one NUMA node, so returning NUMA node zero\n",
      "2021-11-25 06:59:59.740604: I tensorflow/core/common_runtime/gpu/gpu_device.cc:1884] Adding visible gpu devices: 0\n",
      "2021-11-25 06:59:59.740632: I tensorflow/core/common_runtime/gpu/gpu_device.cc:1283] Device interconnect StreamExecutor with strength 1 edge matrix:\n",
      "2021-11-25 06:59:59.740640: I tensorflow/core/common_runtime/gpu/gpu_device.cc:1289]      0 \n",
      "2021-11-25 06:59:59.740645: I tensorflow/core/common_runtime/gpu/gpu_device.cc:1302] 0:   N \n",
      "2021-11-25 06:59:59.740723: I tensorflow/stream_executor/cuda/cuda_gpu_executor.cc:1079] successful NUMA node read from SysFS had negative value (-1), but there must be at least one NUMA node, so returning NUMA node zero\n",
      "2021-11-25 06:59:59.740969: I tensorflow/stream_executor/cuda/cuda_gpu_executor.cc:1079] successful NUMA node read from SysFS had negative value (-1), but there must be at least one NUMA node, so returning NUMA node zero\n",
      "2021-11-25 06:59:59.741188: I tensorflow/core/common_runtime/gpu/gpu_device.cc:1428] Created TensorFlow device (/job:localhost/replica:0/task:0/device:GPU:0 with 590 MB memory) -> physical GPU (device: 0, name: NVIDIA GeForce RTX 2060, pci bus id: 0000:01:00.0, compute capability: 7.5)\n",
      "2021-11-25 06:59:59.748442: I tensorflow/core/grappler/optimizers/meta_optimizer.cc:842] Optimization results for grappler item: graph_to_optimize\n",
      "2021-11-25 06:59:59.748478: I tensorflow/core/grappler/optimizers/meta_optimizer.cc:844]   function_optimizer: Graph size after: 121 nodes (90), 120 edges (89), time = 1.912ms.\n",
      "2021-11-25 06:59:59.748484: I tensorflow/core/grappler/optimizers/meta_optimizer.cc:844]   function_optimizer: function_optimizer did nothing. time = 0.04ms.\n",
      "2021-11-25 06:59:59.991977: I tensorflow/stream_executor/cuda/cuda_gpu_executor.cc:1079] successful NUMA node read from SysFS had negative value (-1), but there must be at least one NUMA node, so returning NUMA node zero\n",
      "2021-11-25 06:59:59.992243: I tensorflow/core/common_runtime/gpu/gpu_device.cc:1742] Found device 0 with properties: \n",
      "pciBusID: 0000:01:00.0 name: NVIDIA GeForce RTX 2060 computeCapability: 7.5\n",
      "coreClock: 1.2GHz coreCount: 30 deviceMemorySize: 5.79GiB deviceMemoryBandwidth: 312.97GiB/s\n",
      "2021-11-25 06:59:59.992269: I tensorflow/stream_executor/platform/default/dso_loader.cc:49] Successfully opened dynamic library libcudart.so.11.0\n",
      "2021-11-25 06:59:59.992288: I tensorflow/stream_executor/platform/default/dso_loader.cc:49] Successfully opened dynamic library libcublas.so.11\n",
      "2021-11-25 06:59:59.992300: I tensorflow/stream_executor/platform/default/dso_loader.cc:49] Successfully opened dynamic library libcufft.so.10\n",
      "2021-11-25 06:59:59.992311: I tensorflow/stream_executor/platform/default/dso_loader.cc:49] Successfully opened dynamic library libcurand.so.10\n",
      "2021-11-25 06:59:59.992321: I tensorflow/stream_executor/platform/default/dso_loader.cc:49] Successfully opened dynamic library libcusolver.so.11\n",
      "2021-11-25 06:59:59.992332: I tensorflow/stream_executor/platform/default/dso_loader.cc:49] Successfully opened dynamic library libcusparse.so.11\n",
      "2021-11-25 06:59:59.992342: I tensorflow/stream_executor/platform/default/dso_loader.cc:49] Successfully opened dynamic library libcudnn.so.8\n",
      "2021-11-25 06:59:59.992384: I tensorflow/stream_executor/cuda/cuda_gpu_executor.cc:1079] successful NUMA node read from SysFS had negative value (-1), but there must be at least one NUMA node, so returning NUMA node zero\n",
      "2021-11-25 06:59:59.992601: I tensorflow/stream_executor/cuda/cuda_gpu_executor.cc:1079] successful NUMA node read from SysFS had negative value (-1), but there must be at least one NUMA node, so returning NUMA node zero\n",
      "2021-11-25 06:59:59.992792: I tensorflow/core/common_runtime/gpu/gpu_device.cc:1884] Adding visible gpu devices: 0\n",
      "2021-11-25 06:59:59.992815: I tensorflow/core/common_runtime/gpu/gpu_device.cc:1283] Device interconnect StreamExecutor with strength 1 edge matrix:\n",
      "2021-11-25 06:59:59.992821: I tensorflow/core/common_runtime/gpu/gpu_device.cc:1289]      0 \n",
      "2021-11-25 06:59:59.992826: I tensorflow/core/common_runtime/gpu/gpu_device.cc:1302] 0:   N \n",
      "2021-11-25 06:59:59.992884: I tensorflow/stream_executor/cuda/cuda_gpu_executor.cc:1079] successful NUMA node read from SysFS had negative value (-1), but there must be at least one NUMA node, so returning NUMA node zero\n",
      "2021-11-25 06:59:59.993105: I tensorflow/stream_executor/cuda/cuda_gpu_executor.cc:1079] successful NUMA node read from SysFS had negative value (-1), but there must be at least one NUMA node, so returning NUMA node zero\n",
      "2021-11-25 06:59:59.993304: I tensorflow/core/common_runtime/gpu/gpu_device.cc:1428] Created TensorFlow device (/job:localhost/replica:0/task:0/device:GPU:0 with 590 MB memory) -> physical GPU (device: 0, name: NVIDIA GeForce RTX 2060, pci bus id: 0000:01:00.0, compute capability: 7.5)\n",
      "WARNING:tensorflow:From /usr/local/lib/python3.8/dist-packages/tf2onnx/tf_loader.py:706: extract_sub_graph (from tensorflow.python.framework.graph_util_impl) is deprecated and will be removed in a future version.\n",
      "Instructions for updating:\n",
      "Use `tf.compat.v1.graph_util.extract_sub_graph`\n",
      "2021-11-25 07:00:00,026 - WARNING - From /usr/local/lib/python3.8/dist-packages/tf2onnx/tf_loader.py:706: extract_sub_graph (from tensorflow.python.framework.graph_util_impl) is deprecated and will be removed in a future version.\n",
      "Instructions for updating:\n",
      "Use `tf.compat.v1.graph_util.extract_sub_graph`\n",
      "2021-11-25 07:00:00.031124: I tensorflow/stream_executor/cuda/cuda_gpu_executor.cc:1079] successful NUMA node read from SysFS had negative value (-1), but there must be at least one NUMA node, so returning NUMA node zero\n",
      "2021-11-25 07:00:00.031407: I tensorflow/core/grappler/devices.cc:69] Number of eligible GPUs (core count >= 8, compute capability >= 0.0): 1\n",
      "2021-11-25 07:00:00.031589: I tensorflow/core/grappler/clusters/single_machine.cc:356] Starting new session\n",
      "2021-11-25 07:00:00.032149: I tensorflow/stream_executor/cuda/cuda_gpu_executor.cc:1079] successful NUMA node read from SysFS had negative value (-1), but there must be at least one NUMA node, so returning NUMA node zero\n",
      "2021-11-25 07:00:00.032473: I tensorflow/core/common_runtime/gpu/gpu_device.cc:1742] Found device 0 with properties: \n",
      "pciBusID: 0000:01:00.0 name: NVIDIA GeForce RTX 2060 computeCapability: 7.5\n",
      "coreClock: 1.2GHz coreCount: 30 deviceMemorySize: 5.79GiB deviceMemoryBandwidth: 312.97GiB/s\n",
      "2021-11-25 07:00:00.032501: I tensorflow/stream_executor/platform/default/dso_loader.cc:49] Successfully opened dynamic library libcudart.so.11.0\n",
      "2021-11-25 07:00:00.032542: I tensorflow/stream_executor/platform/default/dso_loader.cc:49] Successfully opened dynamic library libcublas.so.11\n",
      "2021-11-25 07:00:00.032576: I tensorflow/stream_executor/platform/default/dso_loader.cc:49] Successfully opened dynamic library libcufft.so.10\n",
      "2021-11-25 07:00:00.032606: I tensorflow/stream_executor/platform/default/dso_loader.cc:49] Successfully opened dynamic library libcurand.so.10\n",
      "2021-11-25 07:00:00.032617: I tensorflow/stream_executor/platform/default/dso_loader.cc:49] Successfully opened dynamic library libcusolver.so.11\n",
      "2021-11-25 07:00:00.032660: I tensorflow/stream_executor/platform/default/dso_loader.cc:49] Successfully opened dynamic library libcusparse.so.11\n",
      "2021-11-25 07:00:00.032672: I tensorflow/stream_executor/platform/default/dso_loader.cc:49] Successfully opened dynamic library libcudnn.so.8\n",
      "2021-11-25 07:00:00.032725: I tensorflow/stream_executor/cuda/cuda_gpu_executor.cc:1079] successful NUMA node read from SysFS had negative value (-1), but there must be at least one NUMA node, so returning NUMA node zero\n",
      "2021-11-25 07:00:00.032956: I tensorflow/stream_executor/cuda/cuda_gpu_executor.cc:1079] successful NUMA node read from SysFS had negative value (-1), but there must be at least one NUMA node, so returning NUMA node zero\n",
      "2021-11-25 07:00:00.033146: I tensorflow/core/common_runtime/gpu/gpu_device.cc:1884] Adding visible gpu devices: 0\n",
      "2021-11-25 07:00:00.033169: I tensorflow/core/common_runtime/gpu/gpu_device.cc:1283] Device interconnect StreamExecutor with strength 1 edge matrix:\n",
      "2021-11-25 07:00:00.033175: I tensorflow/core/common_runtime/gpu/gpu_device.cc:1289]      0 \n",
      "2021-11-25 07:00:00.033180: I tensorflow/core/common_runtime/gpu/gpu_device.cc:1302] 0:   N \n",
      "2021-11-25 07:00:00.033239: I tensorflow/stream_executor/cuda/cuda_gpu_executor.cc:1079] successful NUMA node read from SysFS had negative value (-1), but there must be at least one NUMA node, so returning NUMA node zero\n",
      "2021-11-25 07:00:00.033461: I tensorflow/stream_executor/cuda/cuda_gpu_executor.cc:1079] successful NUMA node read from SysFS had negative value (-1), but there must be at least one NUMA node, so returning NUMA node zero\n",
      "2021-11-25 07:00:00.033661: I tensorflow/core/common_runtime/gpu/gpu_device.cc:1428] Created TensorFlow device (/job:localhost/replica:0/task:0/device:GPU:0 with 590 MB memory) -> physical GPU (device: 0, name: NVIDIA GeForce RTX 2060, pci bus id: 0000:01:00.0, compute capability: 7.5)\n",
      "2021-11-25 07:00:00.137207: I tensorflow/core/grappler/optimizers/meta_optimizer.cc:842] Optimization results for grappler item: graph_to_optimize\n",
      "2021-11-25 07:00:00.137235: I tensorflow/core/grappler/optimizers/meta_optimizer.cc:844]   constant_folding: Graph size after: 61 nodes (-56), 60 edges (-56), time = 67.668ms.\n",
      "2021-11-25 07:00:00.137246: I tensorflow/core/grappler/optimizers/meta_optimizer.cc:844]   function_optimizer: function_optimizer did nothing. time = 0.074ms.\n",
      "2021-11-25 07:00:00.137253: I tensorflow/core/grappler/optimizers/meta_optimizer.cc:844]   constant_folding: Graph size after: 61 nodes (0), 60 edges (0), time = 19.488ms.\n",
      "2021-11-25 07:00:00.137260: I tensorflow/core/grappler/optimizers/meta_optimizer.cc:844]   function_optimizer: function_optimizer did nothing. time = 0.101ms.\n",
      "2021-11-25 07:00:00,173 - INFO - Using tensorflow=2.3.1, onnx=1.10.2, tf2onnx=1.9.3/1190aa\n",
      "2021-11-25 07:00:00,173 - INFO - Using opset <onnx, 9>\n",
      "2021-11-25 07:00:00,802 - INFO - Computed 0 values for constant folding\n",
      "2021-11-25 07:00:01,191 - INFO - Optimizing ONNX model\n",
      "2021-11-25 07:00:01,287 - INFO - After optimization: Cast -1 (1->0), Identity -6 (6->0), Transpose -18 (20->2)\n",
      "2021-11-25 07:00:01,363 - INFO - \n",
      "2021-11-25 07:00:01,364 - INFO - Successfully converted TensorFlow model ../model/antispoofing to ONNX\n",
      "2021-11-25 07:00:01,364 - INFO - Model inputs: ['conv2d_input']\n",
      "2021-11-25 07:00:01,364 - INFO - Model outputs: ['activation_5']\n",
      "2021-11-25 07:00:01,364 - INFO - ONNX model is saved at ../model/antispoofing.onnx\n"
     ]
    }
   ],
   "source": [
    "!python -m tf2onnx.convert --saved-model ../model/antispoofing --output ../model/antispoofing.onnx"
   ]
  },
  {
   "cell_type": "code",
   "execution_count": 8,
   "metadata": {},
   "outputs": [],
   "source": [
    "# setting batch dimension of input and output to -1 in the model, cuz it seems to give unk__48 when opening the model in netron\n",
    "\n",
    "onnx_model = onnx.load(\"../model/permuted_antispoofing.onnx\")"
   ]
  },
  {
   "cell_type": "code",
   "execution_count": 9,
   "metadata": {},
   "outputs": [],
   "source": [
    "def update_dim(model):\n",
    "    inputs = model.graph.input\n",
    "    outputs = model.graph.output\n",
    "\n",
    "    for inp in inputs:\n",
    "        inp.type.tensor_type.shape.dim[0].dim_value = -1\n",
    "    \n",
    "    for output in outputs:\n",
    "        output.type.tensor_type.shape.dim[0].dim_value = -1"
   ]
  },
  {
   "cell_type": "code",
   "execution_count": 10,
   "metadata": {},
   "outputs": [],
   "source": [
    "update_dim(onnx_model)\n",
    "onnx.save(onnx_model, \"../model/permuted_antispoofing.onnx\")"
   ]
  }
 ],
 "metadata": {
  "interpreter": {
   "hash": "a0466df0323e4fadcd5456a89f135e3a4f761db8a68bbb1b45bff8866726fe5a"
  },
  "kernelspec": {
   "display_name": "Python 3.8.12 64-bit ('venv': venv)",
   "language": "python",
   "name": "python3"
  },
  "language_info": {
   "codemirror_mode": {
    "name": "ipython",
    "version": 3
   },
   "file_extension": ".py",
   "mimetype": "text/x-python",
   "name": "python",
   "nbconvert_exporter": "python",
   "pygments_lexer": "ipython3",
   "version": "3.8.5"
  },
  "orig_nbformat": 4
 },
 "nbformat": 4,
 "nbformat_minor": 2
}
